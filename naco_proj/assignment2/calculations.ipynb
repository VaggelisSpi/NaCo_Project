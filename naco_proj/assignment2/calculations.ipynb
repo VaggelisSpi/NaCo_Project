{
 "cells": [
  {
   "cell_type": "code",
   "execution_count": null,
   "metadata": {},
   "outputs": [],
   "source": [
    "import numpy as np\n",
    "from sklearn import metrics\n",
    "import pandas as pd\n",
    "import matplotlib.pyplot as plt"
   ]
  },
  {
   "cell_type": "code",
   "execution_count": null,
   "metadata": {},
   "outputs": [],
   "source": [
    "directory = './data/'"
   ]
  },
  {
   "cell_type": "code",
   "execution_count": null,
   "metadata": {},
   "outputs": [],
   "source": [
    "r = 1\n",
    "data = pd.DataFrame()\n",
    "data['input'] = pd.read_csv(directory + 'english_tagalog.test', header=None)  # input sentence\n",
    "data['score'] = pd.read_csv(directory + 'res_' + str(r) + '.txt', header=None).astype(np.float32)  # anomaly score\n",
    "data['anomalous'] = 1\n",
    "data.loc[:123, 'anomalous'] = 0\n",
    "# anomalous or not: 124 * 0 + 708 * 1\n",
    "data"
   ]
  },
  {
   "cell_type": "code",
   "execution_count": null,
   "metadata": {},
   "outputs": [],
   "source": [
    "anomalous_data = data[data['anomalous'] == 1]\n",
    "sensitivity = len(anomalous_data[anomalous_data['score'] > r]) / len(anomalous_data)\n",
    "\n",
    "non_anomalous_data = data[data['anomalous'] == 0]\n",
    "specificity = len(non_anomalous_data[non_anomalous_data['score'] < r]) / len(non_anomalous_data)\n",
    "# specificity = 1 - specificity\n",
    "\n",
    "data['y'] = (data['score'] > r)\n",
    "# print(data['y'])\n",
    "\n",
    "print(specificity * sensitivity)\n",
    "# auc = metrics.roc_auc_score(specificity, sensitivity)\n",
    "fpr, tpr, thresholds = metrics.roc_curve(data['anomalous'], data['y'])\n",
    "auc = metrics.auc(fpr, tpr)\n",
    "auc = metrics.roc_auc_score(data['anomalous'], data['y'])\n",
    "roc = metrics.RocCurveDisplay(fpr=fpr, tpr=tpr, roc_auc=auc)\n",
    "roc.plot()"
   ]
  },
  {
   "cell_type": "code",
   "execution_count": null,
   "metadata": {},
   "outputs": [],
   "source": [
    "def preprocess_data(data):\n",
    "    anomalous_data = data[data['anomalous'] == 1]\n",
    "    sensitivity = len(anomalous_data[anomalous_data['score'] > r]) / len(anomalous_data)\n",
    "\n",
    "    non_anomalous_data = data[data['anomalous'] == 0]\n",
    "    specificity = len(non_anomalous_data[non_anomalous_data['score'] < r]) / len(non_anomalous_data)\n",
    "\n",
    "    data['y'] = (data['score'] > r)\n",
    "\n",
    "    return anomalous_data, non_anomalous_data, data\n",
    "\n",
    "\n",
    "def caclulate_roc_auc(data):\n",
    "    fpr, tpr, thresholds = metrics.roc_curve(data['anomalous'], data['score'])\n",
    "    auc = metrics.roc_auc_score(data['anomalous'], data['score'])\n",
    "    roc = metrics.RocCurveDisplay(fpr=fpr, tpr=tpr, roc_auc=auc)\n",
    "\n",
    "    return auc, roc"
   ]
  },
  {
   "cell_type": "code",
   "execution_count": null,
   "metadata": {},
   "outputs": [],
   "source": [
    "fig, ax = plt.subplots(3, 3, figsize=(10, 10), constrained_layout=True)\n",
    "\n",
    "for r in range(1, 10):\n",
    "    data = pd.DataFrame()\n",
    "    data['input'] = pd.read_csv(directory + 'english_tagalog.test', header=None)  # input sentence\n",
    "    data['score'] = pd.read_csv(directory + 'res_' + str(r) + '.txt', header=None).astype(np.float32)  # anomaly score\n",
    "    data['anomalous'] = 1\n",
    "    data.loc[:123, 'anomalous'] = 0\n",
    "    \n",
    "    _, _, data = preprocess_data(data)\n",
    "\n",
    "    auc, roc = caclulate_roc_auc(data)\n",
    "    axis = ax[(r-1)//3, (r-1)%3]\n",
    "    roc.plot(ax=axis)\n",
    "    axis.set_title(f\"r={r}\")\n"
   ]
  },
  {
   "cell_type": "markdown",
   "metadata": {},
   "source": [
    "1 - 0.5435347184253692\n",
    "2 - 0.7396459814106069\n",
    "3 - \n",
    "4 - \n",
    "5 - \n",
    "6 - \n",
    "7 - \n",
    "8 - \n",
    "9 - "
   ]
  },
  {
   "cell_type": "code",
   "execution_count": null,
   "metadata": {},
   "outputs": [],
   "source": [
    "languages = ['xhosa', 'hiligaynon', 'middle_english', 'plaudietsch']\n",
    "fig, ax = plt.subplots(2, 2, figsize=(8, 8), constrained_layout=True)\n",
    "i = 0\n",
    "# java -jar negsel2.jar -self english.train -n 10 -l -c -r 3\n",
    "\n",
    "for language in languages:\n",
    "    print(language)\n",
    "    data = pd.DataFrame()\n",
    "    data['input'] = pd.read_csv(directory + 'english_' + language + '.test', header=None)  # input sentence\n",
    "    data['score'] = pd.read_csv(directory + language + '_res.txt', header=None).astype(np.float32)  # anomaly score\n",
    "    data['anomalous'] = 1\n",
    "    data.loc[:123, 'anomalous'] = 0\n",
    "    \n",
    "    _, _, data = preprocess_data(data)\n",
    "\n",
    "    auc, roc = caclulate_roc_auc(data)\n",
    "    axis = ax[i//2, i%2]\n",
    "    i+=1\n",
    "    roc.plot(ax=axis)\n",
    "    axis.set_title(language)\n",
    "    "
   ]
  }
 ],
 "metadata": {
  "kernelspec": {
   "display_name": "Python 3",
   "language": "python",
   "name": "python3"
  },
  "language_info": {
   "codemirror_mode": {
    "name": "ipython",
    "version": 3
   },
   "file_extension": ".py",
   "mimetype": "text/x-python",
   "name": "python",
   "nbconvert_exporter": "python",
   "pygments_lexer": "ipython3",
   "version": "3.12.3"
  }
 },
 "nbformat": 4,
 "nbformat_minor": 2
}

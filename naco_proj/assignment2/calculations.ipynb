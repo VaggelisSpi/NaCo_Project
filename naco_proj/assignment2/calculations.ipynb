{
 "cells": [
  {
   "cell_type": "code",
   "execution_count": 1,
   "metadata": {},
   "outputs": [],
   "source": [
    "import numpy as np\n",
    "from sklearn import metrics\n",
    "import pandas as pd"
   ]
  },
  {
   "cell_type": "code",
   "execution_count": null,
   "metadata": {},
   "outputs": [],
   "source": [
    "data = pd.DataFrame()\n",
    "data['input'] = pd.read_csv('input.txt', sep=\"\\n\", header=None)  # input sentence\n",
    "data['score'] = pd.read_csv('score.txt', sep=\"\\n\", header=None)  # anomaly score\n",
    "data['anomalous'] = pd.read_csv('anomalous.txt', sep=\"\\n\", header=None)  # anomalous or not"
   ]
  },
  {
   "cell_type": "code",
   "execution_count": null,
   "metadata": {},
   "outputs": [],
   "source": [
    "\n",
    "sensitivity = \n",
    "specificity = \n",
    "specificity = 1 - specificity\n",
    "fpr, tpr, thresholds = metrics.roc_curve(specificity, sensitivity, pos_label=2)\n",
    "metrics.auc(fpr, tpr)"
   ]
  }
 ],
 "metadata": {
  "kernelspec": {
   "display_name": "AI",
   "language": "python",
   "name": "python3"
  },
  "language_info": {
   "codemirror_mode": {
    "name": "ipython",
    "version": 3
   },
   "file_extension": ".py",
   "mimetype": "text/x-python",
   "name": "python",
   "nbconvert_exporter": "python",
   "pygments_lexer": "ipython3",
   "version": "3.12.2"
  }
 },
 "nbformat": 4,
 "nbformat_minor": 2
}

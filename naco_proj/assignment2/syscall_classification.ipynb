{
 "cells": [
  {
   "cell_type": "code",
   "execution_count": null,
   "id": "c8308931",
   "metadata": {},
   "outputs": [],
   "source": [
    "import pandas as pd\n",
    "import matplotlib.pyplot as plt"
   ]
  },
  {
   "cell_type": "code",
   "execution_count": null,
   "id": "212857ce",
   "metadata": {},
   "outputs": [],
   "source": [
    "snd_cert_path = './data/syscalls/snd-cert'\n",
    "snd_unm_path = './data/syscalls/snd-unm'"
   ]
  },
  {
   "cell_type": "code",
   "execution_count": null,
   "id": "10032a18",
   "metadata": {},
   "outputs": [],
   "source": [
    "snd_cert_1_data = pd.DataFrame()\n",
    "snd_cert_1_data[\"data\"] = pd.read_csv(snd_cert_path + \"/snd-cert.1.test\")\n",
    "snd_cert_1_data[\"label\"] = pd.read_csv(snd_cert_path + \"/snd-cert.1.labels\")\n",
    "\n",
    "snd_cert_2_data = pd.DataFrame()\n",
    "snd_cert_2_data[\"data\"] = pd.read_csv(snd_cert_path + \"/snd-cert.2.test\")\n",
    "snd_cert_2_data[\"label\"] = pd.read_csv(snd_cert_path + \"/snd-cert.2.labels\")\n",
    "\n",
    "snd_cert_3_data = pd.DataFrame()\n",
    "snd_cert_3_data[\"data\"] = pd.read_csv(snd_cert_path + \"/snd-cert.3.test\")\n",
    "snd_cert_3_data[\"label\"] = pd.read_csv(snd_cert_path + \"/snd-cert.3.labels\")\n",
    "\n",
    "snd_cert_train_data = pd.DataFrame()\n",
    "snd_cert_train_data[\"data\"] = pd.read_csv(snd_cert_path + \"/snd-cert.train\")"
   ]
  },
  {
   "cell_type": "code",
   "execution_count": null,
   "id": "f65689ce",
   "metadata": {},
   "outputs": [],
   "source": [
    "snd_unm_1_data = pd.DataFrame()\n",
    "snd_unm_1_data[\"data\"] = pd.read_csv(snd_unm_path + \"/snd-unm.1.test\")\n",
    "snd_unm_1_data[\"label\"] = pd.read_csv(snd_unm_path + \"/snd-unm.1.labels\")\n",
    "\n",
    "snd_unm_2_data = pd.DataFrame()\n",
    "snd_unm_2_data[\"data\"] = pd.read_csv(snd_unm_path + \"/snd-unm.2.test\")\n",
    "snd_unm_2_data[\"label\"] = pd.read_csv(snd_unm_path + \"/snd-unm.2.labels\")\n",
    "\n",
    "\n",
    "snd_unm_3_data = pd.DataFrame()\n",
    "snd_unm_3_data[\"data\"] = pd.read_csv(snd_unm_path + \"/snd-unm.3.test\")\n",
    "snd_unm_3_data[\"label\"] = pd.read_csv(snd_unm_path + \"/snd-unm.3.labels\")\n",
    "\n",
    "snd_unm_train_data = pd.DataFrame()\n",
    "snd_unm_train_data[\"data\"] = pd.read_csv(snd_unm_path + \"/snd-unm.train\")"
   ]
  },
  {
   "cell_type": "code",
   "execution_count": null,
   "id": "6c6cb007",
   "metadata": {},
   "outputs": [],
   "source": [
    "def preprocess_data_frames(df: pd.DataFrame) -> pd.DataFrame:\n",
    "    # assign a unique id to each data element so when we split them in substrings, we can then get back to the original\n",
    "    # and coclude about the final class\n",
    "    df['id'] = range(len(df))\n",
    "\n",
    "    df[\"length\"] = df[\"data\"].str.len()\n",
    "\n",
    "    return df\n",
    "\n",
    "def extract_substrings(df: pd.DataFrame, substr_len: int = 7) -> pd.DataFrame:\n",
    "    \"\"\"\n",
    "    Create a new dataframe with all the subsrings from each row\n",
    "    We will try to get non overlapping substrings, but if the text is not divisible by the desired length, then for the\n",
    "    last substring we will get the last substr_len elements of the string\n",
    "\n",
    "    This method returns a dataframe with the substrings and the label of the original string\n",
    "    \"\"\"\n",
    "    substr_df = {\"data\": [], \"label\": []}\n",
    "    for index, row in df.iterrows():\n",
    "        text = row[\"data\"]\n",
    "        label = row[\"label\"]\n",
    "        substrings = []\n",
    "        start = 0\n",
    "        length = row[\"length\"]\n",
    "        while start < length:\n",
    "            end = start + substr_len\n",
    "            if end < length:\n",
    "                substrings.append(text[start:end])\n",
    "            else:\n",
    "                substrings.append(text[-length:])\n",
    "        substr_df[\"data\"].extend(substrings)\n",
    "        # substr_df[\"label\"].extend(label for i in range(len(substrings)))\n",
    "\n",
    "    print(substr_df[\"data\"])\n",
    "    # return pd.DataFrame(substr_df)\n",
    "    return pd.DataFram"
   ]
  },
  {
   "cell_type": "code",
   "execution_count": null,
   "id": "d13aa741",
   "metadata": {},
   "outputs": [],
   "source": [
    "def analyse_df(df: pd.DataFrame, name: str) -> None:\n",
    "    print(\"Counts for df \" + name)\n",
    "    display(df.groupby(\"length\").count())"
   ]
  },
  {
   "cell_type": "code",
   "execution_count": null,
   "id": "cef914fd",
   "metadata": {},
   "outputs": [],
   "source": [
    "snd_cert_1_data = preprocess_data_frames(snd_cert_1_data)\n",
    "snd_cert_2_data = preprocess_data_frames(snd_cert_2_data)\n",
    "snd_cert_3_data = preprocess_data_frames(snd_cert_3_data)\n",
    "snd_cert_train_data = preprocess_data_frames(snd_cert_train_data)\n",
    "\n",
    "snd_unm_1_data = preprocess_data_frames(snd_unm_1_data)\n",
    "snd_unm_2_data = preprocess_data_frames(snd_unm_2_data)\n",
    "snd_unm_3_data = preprocess_data_frames(snd_unm_3_data)\n",
    "snd_unm_train_data = preprocess_data_frames(snd_unm_train_data)\n",
    "\n",
    "# analyse_df(snd_cert_1_data, \"snd_cert_1_data\")\n",
    "# analyse_df(snd_cert_2_data, \"snd_cert_2_data\")\n",
    "# analyse_df(snd_cert_3_data, \"snd_cert_3_data\")\n",
    "# analyse_df(snd_cert_train_data, \"snd_cert_train_data\")\n",
    "\n",
    "# analyse_df(snd_unm_1_data, \"snd_unm_1_data\")\n",
    "# analyse_df(snd_unm_2_data, \"snd_unm_2_data\")\n",
    "# analyse_df(snd_unm_3_data, \"snd_unm_3_data\")\n",
    "# analyse_df(snd_unm_train_data, \"snd_unm_train_data\")"
   ]
  },
  {
   "cell_type": "code",
   "execution_count": null,
   "id": "04d90d5b",
   "metadata": {},
   "outputs": [],
   "source": [
    "# snd_cert_1_substrs_data = extract_substrings(snd_cert_1_data)\n",
    "# snd_cert_1_substrs_data.head(20)\n",
    "# this is too slow currently"
   ]
  },
  {
   "cell_type": "code",
   "execution_count": null,
   "id": "cc72dc41",
   "metadata": {},
   "outputs": [],
   "source": [
    "\n",
    "snd_cert_1_data.to_csv(snd_cert_path + \"/snd_cert.1.csv\")\n",
    "snd_cert_2_data.to_csv(snd_cert_path + \"/snd_cert.2.csv\")\n",
    "snd_cert_3_data.to_csv(snd_cert_path + \"/snd_cert.3.csv\")\n",
    "\n",
    "snd_unm_1_data.to_csv(snd_unm_path + \"/snd_unm.1.csv\")\n",
    "snd_unm_2_data.to_csv(snd_unm_path + \"/snd_unm.2.csv\")\n",
    "snd_unm_3_data.to_csv(snd_unm_path + \"/snd_unm.3.csv\")"
   ]
  }
 ],
 "metadata": {
  "jupytext": {
   "cell_metadata_filter": "-all",
   "formats": "ipynb,py:percent",
   "main_language": "python"
  },
  "kernelspec": {
   "display_name": "Python 3",
   "language": "python",
   "name": "python3"
  },
  "language_info": {
   "codemirror_mode": {
    "name": "ipython",
    "version": 3
   },
   "file_extension": ".py",
   "mimetype": "text/x-python",
   "name": "python",
   "nbconvert_exporter": "python",
   "pygments_lexer": "ipython3",
   "version": "3.8.10"
  }
 },
 "nbformat": 4,
 "nbformat_minor": 5
}

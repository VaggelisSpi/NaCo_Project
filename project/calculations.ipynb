{
 "cells": [
  {
   "cell_type": "code",
   "execution_count": null,
   "metadata": {},
   "outputs": [],
   "source": [
    "import numpy as np\n",
    "import random\n",
    "import matplotlib.pyplot as plt\n",
    "import pandas as pd\n",
    "import matplotlib.pyplot as plt\n",
    "import time\n",
    "import os\n",
    "\n",
    "import evolutionary_algorithm as ea"
   ]
  },
  {
   "cell_type": "markdown",
   "metadata": {},
   "source": [
    "# Peptides"
   ]
  },
  {
   "cell_type": "code",
   "execution_count": null,
   "metadata": {},
   "outputs": [],
   "source": [
    "# import ebola peptides data\n",
    "\n",
    "peptides_data_dir = \"./data/peptides/\"\n",
    "\n",
    "ebola_data = pd.read_csv(peptides_data_dir + \"ebola-6mers.txt\", header=None)\n",
    "\n",
    "ebola_data"
   ]
  },
  {
   "cell_type": "code",
   "execution_count": null,
   "metadata": {},
   "outputs": [],
   "source": [
    "amino_acids = [\n",
    "    'A', 'C', 'D', 'E', 'F', 'G', 'H', 'I', 'K', 'L', 'M', 'N', 'P', 'Q', 'R', 'S', 'T', 'V', 'W', 'Y'\n",
    "]\n",
    "aa_index = {aa: i for i, aa in enumerate(amino_acids)}\n",
    "\n",
    "def peptide_to_frequency_vector(peptide):\n",
    "    vector = np.zeros(len(amino_acids))\n",
    "    for aa in peptide:\n",
    "        if aa in aa_index:\n",
    "            vector[aa_index[aa]] += 1\n",
    "    return vector / len(peptide)\n",
    "\n",
    "print(f\"Frequency vector of LEAMVN: {peptide_to_frequency_vector(\"LEAMVN\")}\")"
   ]
  },
  {
   "cell_type": "code",
   "execution_count": null,
   "metadata": {},
   "outputs": [],
   "source": [
    "ebola_vectors = np.vstack(\n",
    "    ebola_data[0].apply(peptide_to_frequency_vector).values\n",
    ")\n",
    "\n",
    "print(f\"Shape: {ebola_vectors.shape}\")"
   ]
  }
 ],
 "metadata": {
  "kernelspec": {
   "display_name": "Python 3",
   "language": "python",
   "name": "python3"
  },
  "language_info": {
   "codemirror_mode": {
    "name": "ipython",
    "version": 3
   },
   "file_extension": ".py",
   "mimetype": "text/x-python",
   "name": "python",
   "nbconvert_exporter": "python",
   "pygments_lexer": "ipython3",
   "version": "3.12.3"
  }
 },
 "nbformat": 4,
 "nbformat_minor": 2
}

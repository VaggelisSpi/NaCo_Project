{
 "cells": [
  {
   "cell_type": "code",
   "execution_count": null,
   "metadata": {},
   "outputs": [],
   "source": [
    "import numpy as np\n",
    "import random\n",
    "import matplotlib.pyplot as plt\n",
    "import pandas as pd\n",
    "import matplotlib.pyplot as plt\n",
    "import time\n",
    "import os\n",
    "from collections import defaultdict\n",
    "\n",
    "# import evolutionary_algorithm as ea\n",
    "\n",
    "from evolutionary_algorithm import EA"
   ]
  },
  {
   "cell_type": "markdown",
   "metadata": {},
   "source": [
    "# Peptides"
   ]
  },
  {
   "cell_type": "code",
   "execution_count": null,
   "metadata": {},
   "outputs": [],
   "source": [
    "# import ebola peptides data\n",
    "\n",
    "peptides_data_dir = \"./data/peptides/\"\n",
    "\n",
    "ebola_data = pd.read_csv(peptides_data_dir + \"ebola-6mers.txt\", header=None)\n",
    "\n",
    "ebola_data"
   ]
  },
  {
   "cell_type": "code",
   "execution_count": null,
   "metadata": {},
   "outputs": [],
   "source": [
    "peptides = ebola_data[0].tolist()\n",
    "peptide_length = len(peptides[0])\n",
    "\n",
    "position_counts = [defaultdict(int) for _ in range(peptide_length)]\n",
    "\n",
    "# count frequencies per position\n",
    "for peptide in peptides:\n",
    "    for i, aa in enumerate(peptide):\n",
    "        position_counts[i][aa] += 1\n",
    "\n",
    "# convert counts to frequencies\n",
    "position_freqs = []\n",
    "for pos in position_counts:\n",
    "    total = sum(pos.values())\n",
    "    pos_freq = {aa: count / total for aa, count in pos.items()}\n",
    "    position_freqs.append(pos_freq)\n",
    "    \n",
    "def compute_Fpep(peptide, position_freqs):\n",
    "    return sum(position_freqs[i].get(aa, 0) for i, aa in enumerate(peptide))\n",
    "\n",
    "fpep_scores = [compute_Fpep(p, position_freqs) for p in peptides]\n",
    "\n",
    "fpep_scores"
   ]
  },
  {
   "cell_type": "code",
   "execution_count": null,
   "metadata": {},
   "outputs": [],
   "source": [
    "ea = EA(\n",
    "    data=fpep_scores,\n",
    "    N=20,\n",
    "    sigma=30,\n",
    "    K=2,\n",
    "    p=0.1,\n",
    "    mu=0.01,\n",
    "    T=1000,\n",
    "    f=np.mean,\n",
    "    seed=42\n",
    ")\n",
    "ea.run()"
   ]
  }
 ],
 "metadata": {
  "kernelspec": {
   "display_name": "Python 3",
   "language": "python",
   "name": "python3"
  },
  "language_info": {
   "codemirror_mode": {
    "name": "ipython",
    "version": 3
   },
   "file_extension": ".py",
   "mimetype": "text/x-python",
   "name": "python",
   "nbconvert_exporter": "python",
   "pygments_lexer": "ipython3",
   "version": "3.12.3"
  }
 },
 "nbformat": 4,
 "nbformat_minor": 2
}

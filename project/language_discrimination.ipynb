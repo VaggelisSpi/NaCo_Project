{
 "cells": [
  {
   "cell_type": "code",
   "execution_count": 1,
   "metadata": {},
   "outputs": [],
   "source": [
    "import numpy as np\n",
    "import matplotlib.pyplot as plt\n",
    "import pandas as pd\n",
    "from collections import defaultdict\n",
    "import math\n",
    "from sklearn.preprocessing import StandardScaler\n",
    "from itertools import product\n",
    "from sklearn import metrics\n",
    "from random import shuffle\n",
    "import re"
   ]
  },
  {
   "cell_type": "code",
   "execution_count": 2,
   "metadata": {},
   "outputs": [],
   "source": [
    "from random_dataset import create_random_dataset\n",
    "from evolutionary_algorithm import EA\n",
    "from greedy_algorithm import GreedyAlgorithm\n",
    "from neg_sel import NegativeSelection, load_data"
   ]
  },
  {
   "cell_type": "markdown",
   "metadata": {},
   "source": [
    "# Languages"
   ]
  },
  {
   "cell_type": "code",
   "execution_count": 3,
   "metadata": {},
   "outputs": [],
   "source": [
    "char_aminoacids = [ '_', 'a', 'b', 'c', 'd', 'e',\n",
    "\t'f', 'g', 'h', 'i', 'j', 'k', 'l', 'm', 'n',\n",
    "\t'o', 'p', 'q', 'r', 's', 't', 'u', 'v', 'w', 'x', 'y', 'z' ]\n",
    "allowed = set(char_aminoacids)"
   ]
  },
  {
   "cell_type": "code",
   "execution_count": 17,
   "metadata": {},
   "outputs": [],
   "source": [
    "languages_data_dir = \"./data/languages/\"\n",
    "english_data_dir = languages_data_dir + \"english/\"\n",
    "input_path = english_data_dir + \"moby_dick.txt\"\n",
    "output_path = english_data_dir + \"moby_dick_6.txt\"\n",
    "\n",
    "with open(input_path, \"r\", encoding=\"utf-8\") as f:\n",
    "    text = f.read().lower()\n",
    "\n",
    "processed = ''.join([c if c in allowed else '_' for c in text])\n",
    "\n",
    "# remove any uncesseary '_' characters\n",
    "processed = re.sub(r'_+', '_', processed)\n",
    "\n",
    "length = 6\n",
    "lines = [processed[i:i+length] for i in range(0, len(processed), length)]\n",
    "\n",
    "# lines must have character amount equal to length\n",
    "lines = [line for line in lines if len(line) == length]\n",
    "\n",
    "with open(output_path, \"w\", encoding=\"utf-8\") as f:\n",
    "    f.write('\\n'.join(lines))"
   ]
  },
  {
   "cell_type": "code",
   "execution_count": 4,
   "metadata": {},
   "outputs": [],
   "source": [
    "languages_data_dir = \"./data/languages/\"\n",
    "english_data_dir = languages_data_dir + \"english/\"\n",
    "input_path = english_data_dir + \"bible.txt\"\n",
    "output_path = english_data_dir + \"bible_6.txt\"\n",
    "\n",
    "with open(input_path, \"r\", encoding=\"utf-8\") as f:\n",
    "    text = f.read().lower()\n",
    "\n",
    "processed = ''.join([c if c in allowed else '_' for c in text])\n",
    "\n",
    "# remove any uncesseary '_' characters\n",
    "processed = re.sub(r'_+', '_', processed)\n",
    "\n",
    "length = 6\n",
    "lines = [processed[i:i+length] for i in range(0, len(processed), length)]\n",
    "\n",
    "# lines must have character amount equal to length\n",
    "lines = [line for line in lines if len(line) == length]\n",
    "\n",
    "with open(output_path, \"w\", encoding=\"utf-8\") as f:\n",
    "    f.write('\\n'.join(lines))"
   ]
  }
 ],
 "metadata": {
  "kernelspec": {
   "display_name": "Python 3",
   "language": "python",
   "name": "python3"
  },
  "language_info": {
   "codemirror_mode": {
    "name": "ipython",
    "version": 3
   },
   "file_extension": ".py",
   "mimetype": "text/x-python",
   "name": "python",
   "nbconvert_exporter": "python",
   "pygments_lexer": "ipython3",
   "version": "3.12.3"
  }
 },
 "nbformat": 4,
 "nbformat_minor": 2
}
